{
 "cells": [
  {
   "cell_type": "code",
   "execution_count": 4,
   "metadata": {},
   "outputs": [
    {
     "ename": "ValueError",
     "evalue": "Incorrect min and max string lengths. Try again.",
     "output_type": "error",
     "traceback": [
      "\u001b[1;31m---------------------------------------------------------------------------\u001b[0m",
      "\u001b[1;31mValueError\u001b[0m                                Traceback (most recent call last)",
      "Cell \u001b[1;32mIn[4], line 17\u001b[0m\n\u001b[0;32m     14\u001b[0m max_length \u001b[39m=\u001b[39m \u001b[39mint\u001b[39m(\u001b[39minput\u001b[39m(\u001b[39m'\u001b[39m\u001b[39mEnter maximum string length: \u001b[39m\u001b[39m'\u001b[39m))\n\u001b[0;32m     15\u001b[0m count \u001b[39m=\u001b[39m \u001b[39mint\u001b[39m(\u001b[39minput\u001b[39m(\u001b[39m'\u001b[39m\u001b[39mHow many random strings to generate? \u001b[39m\u001b[39m'\u001b[39m))\n\u001b[1;32m---> 17\u001b[0m \u001b[39mprint\u001b[39m(batch_string_generator(count, min_length, max_length))\n",
      "Cell \u001b[1;32mIn[4], line 9\u001b[0m, in \u001b[0;36mbatch_string_generator\u001b[1;34m(count, min_length, max_length)\u001b[0m\n\u001b[0;32m      7\u001b[0m \u001b[39mdef\u001b[39;00m \u001b[39mbatch_string_generator\u001b[39m(count, min_length\u001b[39m=\u001b[39m\u001b[39m8\u001b[39m, max_length\u001b[39m=\u001b[39m\u001b[39m12\u001b[39m):\n\u001b[0;32m      8\u001b[0m     \u001b[39mif\u001b[39;00m min_length \u001b[39m>\u001b[39m max_length:\n\u001b[1;32m----> 9\u001b[0m         \u001b[39mraise\u001b[39;00m \u001b[39mValueError\u001b[39;00m(\u001b[39m'\u001b[39m\u001b[39mIncorrect min and max string lengths. Try again.\u001b[39m\u001b[39m'\u001b[39m)\n\u001b[0;32m     11\u001b[0m     \u001b[39mreturn\u001b[39;00m [random_string_generator(random\u001b[39m.\u001b[39mrandint(min_length, max_length)) \u001b[39mfor\u001b[39;00m _ \u001b[39min\u001b[39;00m \u001b[39mrange\u001b[39m(count)]\n",
      "\u001b[1;31mValueError\u001b[0m: Incorrect min and max string lengths. Try again."
     ]
    }
   ],
   "source": [
    "import string\n",
    "import random\n",
    "\n",
    "def random_string_generator(length=12, characters=string.ascii_lowercase + string.digits):\n",
    "    return ''.join(random.choice(characters) for _ in range(length))\n",
    "\n",
    "def batch_string_generator(count, min_length=8, max_length=12):\n",
    "    if min_length > max_length:\n",
    "        raise ValueError('Incorrect min and max string lengths. Try again.')\n",
    "\n",
    "    return [random_string_generator(random.randint(min_length, max_length)) for _ in range(count)]\n",
    "\n",
    "min_length = int(input('Enter minimum string length: '))\n",
    "max_length = int(input('Enter maximum string length: '))\n",
    "count = int(input('How many random strings to generate? '))\n",
    "\n",
    "print(batch_string_generator(count, min_length, max_length))"
   ]
  },
  {
   "cell_type": "code",
   "execution_count": null,
   "metadata": {},
   "outputs": [],
   "source": []
  }
 ],
 "metadata": {
  "kernelspec": {
   "display_name": "Python 3",
   "language": "python",
   "name": "python3"
  },
  "language_info": {
   "codemirror_mode": {
    "name": "ipython",
    "version": 3
   },
   "file_extension": ".py",
   "mimetype": "text/x-python",
   "name": "python",
   "nbconvert_exporter": "python",
   "pygments_lexer": "ipython3",
   "version": "3.10.11"
  },
  "orig_nbformat": 4
 },
 "nbformat": 4,
 "nbformat_minor": 2
}
