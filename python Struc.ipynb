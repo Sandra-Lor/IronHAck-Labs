{
 "cells": [
  {
   "cell_type": "code",
   "execution_count": 1,
   "metadata": {},
   "outputs": [
    {
     "name": "stdout",
     "output_type": "stream",
     "text": [
      "Products in customer_orders set: {'glasses', 'hat', 't-shirts'}\n",
      "Order Statistics:\n",
      "Total Products Ordered: 3\n",
      "Percentage of Products Ordered: 60.00%\n",
      "Updated Inventory:\n",
      "t-shirts: 3\n",
      "mugs: 3\n",
      "hats: 1\n",
      "books: 4\n",
      "keychains: 2\n"
     ]
    }
   ],
   "source": [
    "# Step 1: Define the list of products\n",
    "products = [\"t-shirt\", \"mug\", \"hat\", \"book\", \"keychain\"]\n",
    "\n",
    "# Step 2: Create an empty dictionary for inventory\n",
    "inventory = {}\n",
    "\n",
    "# Step 3: Input quantity of each product in inventory\n",
    "for product in products:\n",
    "    quantity = int(input(f\"Enter the quantity of {product}s available in the inventory: \"))\n",
    "    inventory[product] = quantity\n",
    "\n",
    "# Step 4: Create an empty set for customer orders\n",
    "customer_orders = set()\n",
    "\n",
    "# Step 5: Input the name of three products that a customer wants to order\n",
    "for i in range(3):\n",
    "    order = input(f\"Enter the name of product {i + 1} that the customer wants to order: \")\n",
    "    customer_orders.add(order)\n",
    "\n",
    "# Step 6: Print the products in the customer_orders set\n",
    "print(\"Products in customer_orders set:\", customer_orders)\n",
    "\n",
    "# Step 7: Calculate order statistics\n",
    "total_products_ordered = len(customer_orders)\n",
    "percentage_ordered = (total_products_ordered / len(products)) * 100\n",
    "order_status = (total_products_ordered, percentage_ordered)\n",
    "\n",
    "# Step 8: Print the order statistics\n",
    "print(\"Order Statistics:\")\n",
    "print(f\"Total Products Ordered: {order_status[0]}\")\n",
    "print(f\"Percentage of Products Ordered: {order_status[1]:.2f}%\")\n",
    "\n",
    "# Step 9: Update the inventory\n",
    "for order in customer_orders:\n",
    "    if order in inventory:\n",
    "        inventory[order] -= 1\n",
    "\n",
    "# Step 10: Print the updated inventory\n",
    "print(\"Updated Inventory:\")\n",
    "for product, quantity in inventory.items():\n",
    "    print(f\"{product}s: {quantity}\")"
   ]
  }
 ],
 "metadata": {
  "kernelspec": {
   "display_name": "Python 3",
   "language": "python",
   "name": "python3"
  },
  "language_info": {
   "codemirror_mode": {
    "name": "ipython",
    "version": 3
   },
   "file_extension": ".py",
   "mimetype": "text/x-python",
   "name": "python",
   "nbconvert_exporter": "python",
   "pygments_lexer": "ipython3",
   "version": "3.10.11"
  },
  "orig_nbformat": 4
 },
 "nbformat": 4,
 "nbformat_minor": 2
}
