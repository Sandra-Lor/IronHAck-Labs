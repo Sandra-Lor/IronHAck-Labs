{
 "cells": [
  {
   "cell_type": "markdown",
   "metadata": {},
   "source": [
    "Challenge 1"
   ]
  },
  {
   "cell_type": "code",
   "execution_count": 5,
   "metadata": {},
   "outputs": [
    {
     "name": "stdout",
     "output_type": "stream",
     "text": [
      "Welcome to this calculator!\n",
      "It can add and subtract whole numbers from zero to five\n"
     ]
    },
    {
     "name": "stdout",
     "output_type": "stream",
     "text": [
      "three + three equals 6\n",
      "Thanks for using this calculator, goodbye :)\n"
     ]
    }
   ],
   "source": [
    "numerical_values = {\n",
    "    'zero': 0,\n",
    "    'one': 1,\n",
    "    'two': 2,\n",
    "    'three': 3,\n",
    "    'four': 4,\n",
    "    'five': 5\n",
    "}\n",
    "\n",
    "# Dictionary to store the mapping of operators to their corresponding symbol and calculation function\n",
    "operators = {\n",
    "    'plus': ('+', lambda x, y: x + y),\n",
    "    'minus': ('-', lambda x, y: x - y)\n",
    "}\n",
    "\n",
    "# Prompt the user for input\n",
    "print('Welcome to this calculator!')\n",
    "print('It can add and subtract whole numbers from zero to five')\n",
    "a = input('Please choose your first number (zero to five): ')\n",
    "b = input('What do you want to do? plus or minus: ')\n",
    "c = input('Please choose your second number (zero to five): ')\n",
    "\n",
    "# Check the validity of input\n",
    "if a not in numerical_values or b not in operators or c not in numerical_values:\n",
    "    print(\"I am not able to answer this question. Check your input.\")\n",
    "else:\n",
    "    # Perform the calculation\n",
    "    num1 = numerical_values[a]\n",
    "    operator = operators[b][0]\n",
    "    num2 = numerical_values[c]\n",
    "    result = operators[b][1](num1, num2)\n",
    "\n",
    "    # Print the result\n",
    "    print(f\"{a} {operator} {c} equals {result}\")\n",
    "\n",
    "print(\"Thanks for using this calculator, goodbye :)\")"
   ]
  }
 ],
 "metadata": {
  "kernelspec": {
   "display_name": "Python 3",
   "language": "python",
   "name": "python3"
  },
  "language_info": {
   "codemirror_mode": {
    "name": "ipython",
    "version": 3
   },
   "file_extension": ".py",
   "mimetype": "text/x-python",
   "name": "python",
   "nbconvert_exporter": "python",
   "pygments_lexer": "ipython3",
   "version": "3.10.11"
  },
  "orig_nbformat": 4
 },
 "nbformat": 4,
 "nbformat_minor": 2
}
